{
 "nbformat": 4,
 "nbformat_minor": 0,
 "metadata": {
  "colab": {
   "provenance": []
  },
  "kernelspec": {
   "name": "python3",
   "language": "python",
   "display_name": "Python 3 (ipykernel)"
  },
  "language_info": {
   "name": "python"
  }
 },
 "cells": [
  {
   "cell_type": "markdown",
   "source": [
    "# Importing libraries"
   ],
   "metadata": {
    "id": "H6niWdEa5LwK"
   }
  },
  {
   "cell_type": "code",
   "execution_count": 27,
   "metadata": {
    "id": "L-P6OdOP5JAv",
    "ExecuteTime": {
     "end_time": "2023-11-23T18:38:54.784243200Z",
     "start_time": "2023-11-23T18:38:54.613541900Z"
    }
   },
   "outputs": [],
   "source": [
    "import albumentations as A\n",
    "import cv2\n",
    "import matplotlib.pyplot as plt\n",
    "import pandas as pd\n",
    "import os\n",
    "from PIL import Image"
   ]
  },
  {
   "cell_type": "code",
   "execution_count": 90,
   "outputs": [],
   "source": [
    "transform = A.Compose(\n",
    "    [\n",
    "        A.Resize(224, 224),\n",
    "        A.Blur(p=0.5),\n",
    "        A.HorizontalFlip(),\n",
    "        A.VerticalFlip(),\n",
    "        \n",
    "    ]\n",
    ")"
   ],
   "metadata": {
    "collapsed": false,
    "ExecuteTime": {
     "end_time": "2023-11-23T18:57:17.737762100Z",
     "start_time": "2023-11-23T18:57:17.719761600Z"
    }
   }
  },
  {
   "cell_type": "code",
   "execution_count": 91,
   "outputs": [],
   "source": [
    "dataset_path = \"datasets/Russian_Dataset/data\"\n",
    "dataset_csv  = \"datasets/Russian_Dataset/hack.csv\"\n",
    "out_dataset  = \"datasets/RES0\""
   ],
   "metadata": {
    "collapsed": false,
    "ExecuteTime": {
     "end_time": "2023-11-23T18:57:17.991930700Z",
     "start_time": "2023-11-23T18:57:17.979919800Z"
    }
   }
  },
  {
   "cell_type": "code",
   "execution_count": 97,
   "outputs": [],
   "source": [
    "labels = pd.read_csv(dataset_csv)\n",
    "if not os.path.exists(out_dataset):\n",
    "    os.mkdir(out_dataset)"
   ],
   "metadata": {
    "collapsed": false,
    "ExecuteTime": {
     "end_time": "2023-11-23T19:03:13.520314300Z",
     "start_time": "2023-11-23T19:03:13.508108900Z"
    }
   }
  },
  {
   "cell_type": "code",
   "execution_count": 98,
   "outputs": [],
   "source": [
    "index = 0\n",
    "expand_to = 2\n",
    "for row in labels.iterrows():\n",
    "    file_name, is_special = row[1]['file_name'], row[1]['is_special_trainsport']\n",
    "    img = cv2.imread(\n",
    "        os.path.join(dataset_path, file_name)\n",
    "    )\n",
    "    img = cv2.cvtColor(img, cv2.COLOR_BGR2RGB)\n",
    "    for i in range(expand_to):\n",
    "        img = transform(image=img)['image']\n",
    "        img = img - img.min()\n",
    "        img = img / img.max()\n",
    "        plt.imsave(\n",
    "            fname=os.path.join(\n",
    "                out_dataset,\n",
    "                f'{index}_{is_special}.jpg'\n",
    "            ),\n",
    "            arr=img\n",
    "        )\n",
    "        index += 1"
   ],
   "metadata": {
    "collapsed": false,
    "ExecuteTime": {
     "end_time": "2023-11-23T19:03:31.501047100Z",
     "start_time": "2023-11-23T19:03:13.806494700Z"
    }
   }
  },
  {
   "cell_type": "code",
   "execution_count": 99,
   "outputs": [
    {
     "ename": "error",
     "evalue": "OpenCV(4.8.1) D:\\a\\opencv-python\\opencv-python\\opencv\\modules\\imgproc\\src\\color.cpp:182: error: (-215:Assertion failed) !_src.empty() in function 'cv::cvtColor'\n",
     "output_type": "error",
     "traceback": [
      "\u001B[1;31m---------------------------------------------------------------------------\u001B[0m",
      "\u001B[1;31merror\u001B[0m                                     Traceback (most recent call last)",
      "Cell \u001B[1;32mIn[99], line 10\u001B[0m\n\u001B[0;32m      6\u001B[0m file_name, is_special \u001B[38;5;241m=\u001B[39m row[\u001B[38;5;241m1\u001B[39m][\u001B[38;5;124m'\u001B[39m\u001B[38;5;124mfile_name\u001B[39m\u001B[38;5;124m'\u001B[39m], row[\u001B[38;5;241m1\u001B[39m][\u001B[38;5;124m'\u001B[39m\u001B[38;5;124mis_special_trainsport\u001B[39m\u001B[38;5;124m'\u001B[39m]\n\u001B[0;32m      7\u001B[0m img \u001B[38;5;241m=\u001B[39m cv2\u001B[38;5;241m.\u001B[39mimread(\n\u001B[0;32m      8\u001B[0m     os\u001B[38;5;241m.\u001B[39mpath\u001B[38;5;241m.\u001B[39mjoin(dataset_path, file_name)\n\u001B[0;32m      9\u001B[0m )\n\u001B[1;32m---> 10\u001B[0m img \u001B[38;5;241m=\u001B[39m \u001B[43mcv2\u001B[49m\u001B[38;5;241;43m.\u001B[39;49m\u001B[43mcvtColor\u001B[49m\u001B[43m(\u001B[49m\u001B[43mimg\u001B[49m\u001B[43m,\u001B[49m\u001B[43m \u001B[49m\u001B[43mcv2\u001B[49m\u001B[38;5;241;43m.\u001B[39;49m\u001B[43mCOLOR_BGR2RGB\u001B[49m\u001B[43m)\u001B[49m\n\u001B[0;32m     11\u001B[0m \u001B[38;5;28;01mfor\u001B[39;00m i \u001B[38;5;129;01min\u001B[39;00m \u001B[38;5;28mrange\u001B[39m(expand_to):\n\u001B[0;32m     12\u001B[0m     img \u001B[38;5;241m=\u001B[39m transform(image\u001B[38;5;241m=\u001B[39mimg)[\u001B[38;5;124m'\u001B[39m\u001B[38;5;124mimage\u001B[39m\u001B[38;5;124m'\u001B[39m]\n",
      "\u001B[1;31merror\u001B[0m: OpenCV(4.8.1) D:\\a\\opencv-python\\opencv-python\\opencv\\modules\\imgproc\\src\\color.cpp:182: error: (-215:Assertion failed) !_src.empty() in function 'cv::cvtColor'\n"
     ]
    }
   ],
   "source": [
    "dataset_path = \"datasets/Emergency_Vehicles/train\"\n",
    "dataset_csv  = \"datasets/Emergency_Vehicles/train.csv\"\n",
    "out_dataset  = \"datasets/RES0\"\n",
    "expand_to = 2\n",
    "for row in labels.iterrows():\n",
    "    file_name, is_special = row[1]['file_name'], row[1]['is_special_trainsport']\n",
    "    img = cv2.imread(\n",
    "        os.path.join(dataset_path, file_name)\n",
    "    )\n",
    "    img = cv2.cvtColor(img, cv2.COLOR_BGR2RGB)\n",
    "    for i in range(expand_to):\n",
    "        img = transform(image=img)['image']\n",
    "        img = img - img.min()\n",
    "        img = img / img.max()\n",
    "        plt.imsave(\n",
    "            fname=os.path.join(\n",
    "                out_dataset,\n",
    "                f'{index}_{is_special}.jpg'\n",
    "            ),\n",
    "            arr=img\n",
    "        )\n",
    "        index += 1"
   ],
   "metadata": {
    "collapsed": false,
    "ExecuteTime": {
     "end_time": "2023-11-23T19:06:01.346705900Z",
     "start_time": "2023-11-23T19:06:01.289549900Z"
    }
   }
  },
  {
   "cell_type": "code",
   "execution_count": null,
   "outputs": [],
   "source": [],
   "metadata": {
    "collapsed": false
   }
  }
 ]
}
